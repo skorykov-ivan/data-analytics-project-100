{
 "cells": [
  {
   "cell_type": "markdown",
   "id": "805eeeba-2c74-4908-a6e8-d9bde2187713",
   "metadata": {},
   "source": [
    "# Проект: Дашборд конверсий"
   ]
  },
  {
   "cell_type": "markdown",
   "id": "c62d3f96-7ffd-428a-9188-a6f76564d4dc",
   "metadata": {},
   "source": [
    "### Импортируем нужные библиотеки:\n",
    "###### 1. pandas и numpy для обработки данных;\n",
    "###### 2. requests для обработки данных из HTTP-запроса\n",
    "###### 4. matplotlib и seaborn для визуализаций\n",
    "###### 5. dotenv и os для работы с переменными окружения"
   ]
  },
  {
   "cell_type": "code",
   "execution_count": null,
   "id": "7842ee16-8a4f-429f-89b7-009a2333fb27",
   "metadata": {},
   "outputs": [],
   "source": [
    "import os\n",
    "from dotenv import load_dotenv\n",
    "import pandas as pd\n",
    "import numpy as np\n",
    "import requests as rq\n",
    "import matplotlib.pyplot as plt\n",
    "import seaborn as sns"
   ]
  },
  {
   "cell_type": "markdown",
   "id": "8c801a3b-cb9b-4abc-9101-23a7b351cdeb",
   "metadata": {},
   "source": [
    "## 1. Получаем данные посетителей и зарегистрировавшихся"
   ]
  },
  {
   "cell_type": "markdown",
   "id": "4d823be3-5b80-4f42-8c12-bc10517966c3",
   "metadata": {},
   "source": [
    "##### 1.1 Выгрузка переменных окружения и создание папки для графиков"
   ]
  },
  {
   "cell_type": "code",
   "execution_count": null,
   "id": "55bcf8ae-508d-4ce5-a2db-b1f7354cd725",
   "metadata": {},
   "outputs": [],
   "source": [
    "# Создаем .env файл\n",
    "env_content = \"\"\"API_URL=https://data-charts-api.hexlet.app\n",
    "DATE_BEGIN=2023-03-01\n",
    "DATE_END=2023-09-01\"\"\"\n",
    "\n",
    "with open('.env', 'w') as f:\n",
    "    f.write(env_content)\n",
    "\n",
    "load_dotenv() # загружаются переменные из файла .env\n",
    "\n",
    "# Получаем значения переменных окружения\n",
    "API_URL = os.getenv('API_URL')\n",
    "DATE_BEGIN = os.getenv('DATE_BEGIN')\n",
    "DATE_END = os.getenv('DATE_END')\n",
    "\n",
    "# Создаем директорию для графиков\n",
    "if not os.path.exists('./charts'):\n",
    "    os.makedirs('./charts')"
   ]
  },
  {
   "cell_type": "markdown",
   "id": "49459f27-94d9-4e40-bd49-d8c19835ed62",
   "metadata": {},
   "source": [
    "##### 1.2 Добавляем датафрейм с посещениями"
   ]
  },
  {
   "cell_type": "code",
   "execution_count": null,
   "id": "58531188-9342-421a-8dd8-e279d06b5bb9",
   "metadata": {},
   "outputs": [],
   "source": [
    "#https://data-charts-api.hexlet.app/visits?begin=2023-03-01&end=2023-09-01\n",
    "url_v = f'{API_URL}/visits?begin={DATE_BEGIN}&end={DATE_END}'\n",
    "visits_url = rq.get(url_v)\n",
    "json_df_visits_url = visits_url.json()\n",
    "visits_df_url = pd.DataFrame(json_df_visits_url)\n",
    "\n",
    "visits_df_url"
   ]
  },
  {
   "cell_type": "markdown",
   "id": "7383e378-c6ea-4ea4-9353-46f27b66880e",
   "metadata": {},
   "source": [
    "##### 1.3 Добавляем датафрейм с регистрациями"
   ]
  },
  {
   "cell_type": "code",
   "execution_count": null,
   "id": "46dd47a2-7f06-4690-b15e-83c2fd211adb",
   "metadata": {},
   "outputs": [],
   "source": [
    "#https://data-charts-api.hexlet.app/registrations?begin=2023-03-01&end=2023-09-01\n",
    "regs_url = rq.get(f'{API_URL}/registrations?begin={DATE_BEGIN}&end={DATE_END}')\n",
    "json_df_regs_url = regs_url.json()\n",
    "regs_df_url = pd.DataFrame(json_df_regs_url)\n",
    "\n",
    "regs_df_url"
   ]
  },
  {
   "cell_type": "markdown",
   "id": "174ba2a8-8ca2-423e-9e5d-15464b6efe13",
   "metadata": {},
   "source": [
    "## 2. Краткая сводка по данным"
   ]
  },
  {
   "cell_type": "markdown",
   "id": "961d95b3-026d-43e1-8de5-844014dba006",
   "metadata": {},
   "source": [
    "##### 2.1 Данные с посетителями"
   ]
  },
  {
   "cell_type": "code",
   "execution_count": null,
   "id": "8472ac23-7b8c-4c9f-9fbe-bdb870af792f",
   "metadata": {},
   "outputs": [],
   "source": [
    "visits_df_url.info()"
   ]
  },
  {
   "cell_type": "markdown",
   "id": "25b69687-485d-47a7-b956-d1414ab3d4d9",
   "metadata": {},
   "source": [
    "##### 2.2 Данные с зарегистрировавшимися"
   ]
  },
  {
   "cell_type": "code",
   "execution_count": null,
   "id": "a906cba2-aa1d-4066-8145-9984f5ecfb96",
   "metadata": {},
   "outputs": [],
   "source": [
    "regs_df_url.info()"
   ]
  },
  {
   "cell_type": "markdown",
   "id": "9717bca5-bfbe-4c25-ba62-22d00dd4efa0",
   "metadata": {},
   "source": [
    "## 3. Считаем конверсию из посетителей в зарегистрировавшихся "
   ]
  },
  {
   "cell_type": "markdown",
   "id": "4f285542-c13d-4289-aeaf-600aae691921",
   "metadata": {},
   "source": [
    "##### 3.1 Обрабатывааем визиты"
   ]
  },
  {
   "cell_type": "code",
   "execution_count": null,
   "id": "e55ba6ca-bb58-43f3-b726-da529fd241a6",
   "metadata": {},
   "outputs": [],
   "source": [
    "# Преобразуем datetime\n",
    "visits_df_url['datetime'] = pd.to_datetime(visits_df_url['datetime'])\n",
    "\n",
    "# Обрабатываем визиты - фильтруем ботов и берем последний визит\n",
    "visits_clean = visits_df_url[~visits_df_url['user_agent'].str.contains('bot', case=False, na=False)]\n",
    "visits_last = visits_clean.sort_values('datetime').groupby('visit_id').last().reset_index()\n",
    "visits_last['date_group'] = visits_last['datetime'].dt.date\n",
    "# Группируем визиты по дате и платформе\n",
    "visits_grouped = visits_last.groupby(['date_group', 'platform']).size().reset_index(name='visits')\n",
    "\n",
    "visits_grouped"
   ]
  },
  {
   "cell_type": "markdown",
   "id": "7652aef2-2ce1-4485-833b-55d70739bdd8",
   "metadata": {},
   "source": [
    "##### 3.2 Обрабатываем регистриции"
   ]
  },
  {
   "cell_type": "code",
   "execution_count": null,
   "id": "1af1439e-29ad-498b-b309-82d912f2dad9",
   "metadata": {},
   "outputs": [],
   "source": [
    "# Преобразуем datetime\n",
    "regs_df_url['datetime'] = pd.to_datetime(regs_df_url['datetime'])\n",
    "\n",
    "# Обрабатываем регистрации\n",
    "regs_df_url['date_group'] = regs_df_url['datetime'].dt.date\n",
    "regs_grouped = regs_df_url.groupby(['date_group', 'platform']).size().reset_index(name='registrations')\n",
    "\n",
    "regs_grouped"
   ]
  },
  {
   "cell_type": "markdown",
   "id": "33614503-5b68-403e-9c5f-0481049414af",
   "metadata": {},
   "source": [
    "##### 3.3 Объединяем и рассчитываем конверсию"
   ]
  },
  {
   "cell_type": "code",
   "execution_count": null,
   "id": "ac2f4e2b-c891-4cf6-a186-0091066fac60",
   "metadata": {},
   "outputs": [],
   "source": [
    "merged_df = pd.merge(visits_grouped, regs_grouped, on=['date_group', 'platform'], how='left')\n",
    "merged_df['registrations'] = merged_df['registrations'].fillna(0)\n",
    "merged_df['conversion'] = (merged_df['registrations'] / merged_df['visits'] * 100).round(6)\n",
    "\n",
    "# Сортируем и сохраняем\n",
    "merged_df = merged_df.sort_values(['date_group', 'platform']).reset_index(drop=True)\n",
    "merged_df"
   ]
  },
  {
   "cell_type": "markdown",
   "id": "37364b58-2b72-4e83-ac01-8d78c1552cb1",
   "metadata": {},
   "source": [
    "##### 3.4 Создаём json файл с конверсией из покупателей в регистрации"
   ]
  },
  {
   "cell_type": "code",
   "execution_count": null,
   "id": "13ca9428-d37d-4e5b-9a37-a8041c043e63",
   "metadata": {},
   "outputs": [],
   "source": [
    "merged_df.to_json('./conversion.json')"
   ]
  },
  {
   "cell_type": "markdown",
   "id": "ff68ab46-9028-4844-8f42-9e16411118d9",
   "metadata": {},
   "source": [
    "## 4. Выводим данные по рекламным кампаниям"
   ]
  },
  {
   "cell_type": "markdown",
   "id": "a6fed5f1-c509-4c26-858e-f5657cfb48af",
   "metadata": {},
   "source": [
    "##### 4.1 Создаём датафрейм о рекламных компаниях"
   ]
  },
  {
   "cell_type": "code",
   "execution_count": null,
   "id": "faf68c4a-7e4b-4061-b3cb-40277c6c93d4",
   "metadata": {},
   "outputs": [],
   "source": [
    "#добавляем датафрейм о рекламных кампаниях\n",
    "ads_df = pd.read_csv('ads.csv')\n",
    "ads_df"
   ]
  },
  {
   "cell_type": "markdown",
   "id": "8b568e59-8d51-44d4-895f-d3b7aa667025",
   "metadata": {},
   "source": [
    "##### 4.2 Обрабатываем рекламные данные"
   ]
  },
  {
   "cell_type": "code",
   "execution_count": null,
   "id": "43f80159-79c2-4bb2-857d-8a1553b4e51b",
   "metadata": {},
   "outputs": [],
   "source": [
    "# Преобразуем дату в ads.csv\n",
    "ads_df['date_group'] = pd.to_datetime(ads_df['date']).dt.date\n",
    "\n",
    "# Группируем рекламные данные по дате\n",
    "ads_grouped = ads_df.groupby('date_group').agg({\n",
    "    'cost': 'sum',\n",
    "    'utm_campaign': 'first'\n",
    "}).reset_index()\n",
    "\n",
    "# Создаем датафрейм конверсий по дате (агрегируем по всем платформам)\n",
    "conversion_by_date = merged_df.groupby('date_group').agg({\n",
    "    'visits': 'sum',\n",
    "    'registrations': 'sum'\n",
    "}).reset_index()\n",
    "\n",
    "# Объединяем с рекламными данными\n",
    "ads_merged = pd.merge(conversion_by_date, ads_grouped, on='date_group', how='left')\n",
    "\n",
    "# Заполняем пропущенные значения\n",
    "ads_merged['cost'] = ads_merged['cost'].fillna(0)\n",
    "ads_merged['utm_campaign'] = ads_merged['utm_campaign'].fillna('none')\n",
    "\n",
    "# Сортируем по дате\n",
    "ads_merged = ads_merged.sort_values('date_group').reset_index(drop=True)\n",
    "\n",
    "ads_merged"
   ]
  },
  {
   "cell_type": "markdown",
   "id": "ee30acb6-d6db-4a4b-8895-1055b2feb5c2",
   "metadata": {},
   "source": [
    "##### 4.2 Создаём json файл с рекламой"
   ]
  },
  {
   "cell_type": "code",
   "execution_count": null,
   "id": "0e1ba698-4632-4e24-8239-5ca325625a30",
   "metadata": {},
   "outputs": [],
   "source": [
    "# Сохраняем в JSON\n",
    "ads_merged.to_json('./ads.json', orient='columns', date_format='epoch')"
   ]
  },
  {
   "cell_type": "markdown",
   "id": "6ccf8318-b432-4f94-98d5-7bdb877d7115",
   "metadata": {},
   "source": [
    "## 5. Визуализация"
   ]
  },
  {
   "cell_type": "markdown",
   "id": "bae28f27-80be-4d03-acea-7e5ffe729cf8",
   "metadata": {},
   "source": [
    "##### 5.1 Итоговые визиты"
   ]
  },
  {
   "cell_type": "code",
   "execution_count": null,
   "id": "16e03f51-0143-4dd7-8c7d-11f5c9d51767",
   "metadata": {},
   "outputs": [],
   "source": [
    "plt.figure(figsize = (25, 10))\n",
    "\n",
    "ax = sns.barplot(\n",
    "    x='date_group',\n",
    "    y='visits',\n",
    "    data=ads_merged\n",
    ")\n",
    "ax.bar_label(ax.containers[0])\n",
    "plt.title('Total visits')\n",
    "plt.xlabel('date_group')\n",
    "plt.xticks(rotation=45)\n",
    "plt.grid()\n",
    "\n",
    "plt.show()\n",
    "\n",
    "#Сохраняем график\n",
    "#plt.savefig(f'./charts/1.visits_by_date.png')"
   ]
  },
  {
   "cell_type": "markdown",
   "id": "5d71d850-e8b9-4b4b-a97c-5199d005c162",
   "metadata": {},
   "source": [
    "##### 5.2 Итоговые визиты с разбивкой по платформам: web, android, ios"
   ]
  },
  {
   "cell_type": "code",
   "execution_count": null,
   "id": "fab5f7e4-aa97-4254-8363-83d32608bb12",
   "metadata": {},
   "outputs": [],
   "source": [
    "plt.figure(figsize=(25, 10))\n",
    "\n",
    "ax = sns.histplot(\n",
    "    x='date_group',\n",
    "    weights='visits',\n",
    "    hue='platform',\n",
    "    data=merged_df,\n",
    "    multiple='stack',\n",
    "    bins=184\n",
    ")\n",
    "\n",
    "plt.title('Visits by platform')\n",
    "plt.xlabel('date_group')\n",
    "plt.ylabel('visits')\n",
    "plt.grid(True)\n",
    "\n",
    "plt.show()\n",
    "\n",
    "#Сохраняем график\n",
    "#plt.savefig('./charts/2.visits_by_web_andr_ios.png')"
   ]
  },
  {
   "cell_type": "markdown",
   "id": "aedf3c20-88d1-4a9a-a142-5c06a75b5deb",
   "metadata": {},
   "source": [
    "##### 5.3 Итоговые регистрации"
   ]
  },
  {
   "cell_type": "code",
   "execution_count": null,
   "id": "34be3360-5757-4a2c-a844-117b28787265",
   "metadata": {},
   "outputs": [],
   "source": [
    "plt.figure(figsize = (30, 10))\n",
    "\n",
    "ax = sns.barplot(\n",
    "    x = 'date_group',\n",
    "    y = 'registrations',\n",
    "    data=ads_merged\n",
    ")\n",
    "\n",
    "ax.bar_label(ax.containers[0])\n",
    "plt.title('Total registrations')\n",
    "plt.xticks(rotation=45)\n",
    "plt.grid()\n",
    "\n",
    "plt.show()\n",
    "\n",
    "#Сохраняем график\n",
    "#plt.savefig('./charts/3.regs_by_date.png')"
   ]
  },
  {
   "cell_type": "markdown",
   "id": "b559344e-f896-4863-a840-68d593f0a261",
   "metadata": {},
   "source": [
    "##### 5.4 Итоговые регистрации с разбивкой по платформе: web, android, ios"
   ]
  },
  {
   "cell_type": "code",
   "execution_count": null,
   "id": "62758685-112d-493b-9f62-17f1f5333eb8",
   "metadata": {},
   "outputs": [],
   "source": [
    "fig, ax = plt.subplots(figsize=(25, 10))\n",
    "\n",
    "ax = sns.histplot(\n",
    "    x='date_group',\n",
    "    weights='registrations',\n",
    "    hue='platform',\n",
    "    data=merged_df,\n",
    "    multiple='stack',\n",
    "    bins=184\n",
    ")\n",
    "\n",
    "plt.title('Registrations by platform')\n",
    "plt.xlabel('date_group')\n",
    "plt.ylabel('registrations')\n",
    "plt.grid(True)\n",
    "\n",
    "plt.show()\n",
    "\n",
    "#Сохраняем график\n",
    "#plt.savefig('./charts/4.regs_web_andr_ios.png')"
   ]
  },
  {
   "cell_type": "markdown",
   "id": "442e57b3-f9d2-4fb4-b628-5cd51e798f75",
   "metadata": {},
   "source": [
    "##### 5.5 Общая конверсия"
   ]
  },
  {
   "cell_type": "code",
   "execution_count": null,
   "id": "5a5f8860-928d-45b6-b2e0-1bde169a8b11",
   "metadata": {},
   "outputs": [],
   "source": [
    "# Создаем final_df из merged_df\n",
    "final_df = merged_df.copy()\n",
    "final_df['date_group'] = pd.to_datetime(final_df['date_group'])\n",
    "\n",
    "conversion_data = final_df.groupby('date_group')['conversion'].mean().reset_index()\n",
    "\n",
    "# Настраиваем график\n",
    "plt.figure(figsize=(22, 10))\n",
    "plt.plot(conversion_data['date_group'], conversion_data['conversion'], marker='o', linestyle='dashed')\n",
    "\n",
    "# Добавляем подписанные значения на график\n",
    "for idx, row in conversion_data.iterrows():\n",
    "    plt.text(row['date_group'], row['conversion'], f\"{row['conversion']:.2f}%\", \n",
    "             ha='center', va='bottom', fontsize=9)\n",
    "\n",
    "plt.title('Overall Conversion')\n",
    "plt.xlabel('Date')\n",
    "plt.ylabel('Conversion (%)')\n",
    "plt.xticks(fontsize=14)\n",
    "plt.grid()\n",
    "\n",
    "plt.tight_layout()\n",
    "plt.show()\n",
    "\n",
    "#Сохраняем график\n",
    "#plt.savefig('./charts/5.overall_conversiont.png')"
   ]
  },
  {
   "cell_type": "markdown",
   "id": "46411a6f-0fa1-4190-8d2f-777f7ccef268",
   "metadata": {},
   "source": [
    "##### 5.6 Конверсия по каждой платформе"
   ]
  },
  {
   "cell_type": "code",
   "execution_count": null,
   "id": "db6a7189-1848-4d93-9083-763dd1c4e913",
   "metadata": {},
   "outputs": [],
   "source": [
    "final_df['date_group'] = pd.to_datetime(final_df['date_group'])\n",
    "\n",
    "# Создаем сводную таблицу для получения итоговых конверсий по дням для каждой платформы\n",
    "conversion_data = final_df.groupby(['date_group', 'platform'])['conversion'].mean().reset_index()\n",
    "\n",
    "platforms = conversion_data['platform'].unique()\n",
    "\n",
    "# Настраиваем графики\n",
    "fig, axs = plt.subplots(len(platforms), 1, figsize=(12, 18))\n",
    "\n",
    "for i, platform in enumerate(platforms):\n",
    "    platform_data = conversion_data[conversion_data['platform'] == platform]\n",
    "    axs[i].plot(platform_data['date_group'], platform_data['conversion'], marker='o', color='skyblue', label='Conversion')\n",
    "\n",
    "    # Добавляем подписанные значения на график\n",
    "    for idx, row in platform_data.iterrows():\n",
    "        axs[i].text(row['date_group'], row['conversion'], f\"{row['conversion']:.2f}%\", \n",
    "                    ha='center', va='bottom', fontsize=8)\n",
    "\n",
    "    # Настроим заголовки и метки для каждого графика\n",
    "    axs[i].set_title(f'Conversion for {platform}')\n",
    "    axs[i].set_ylabel('Conversion (%)')\n",
    "    axs[i].grid()\n",
    "    axs[i].legend(title='Conversion')\n",
    "\n",
    "# Настройка оси X\n",
    "plt.xlabel('Date')\n",
    "\n",
    "plt.tight_layout()\n",
    "plt.show()\n",
    "\n",
    "#Сохраняем график\n",
    "#plt.savefig('./charts/6.conversion_by_web_andr_ios.png')"
   ]
  },
  {
   "cell_type": "markdown",
   "id": "fb42483f-ead6-44dc-b86e-0287edb3b8f2",
   "metadata": {},
   "source": [
    "##### 5.7 Стоимости реклам"
   ]
  },
  {
   "cell_type": "code",
   "execution_count": null,
   "id": "005da111-53d0-4b36-970b-277de0d455eb",
   "metadata": {},
   "outputs": [],
   "source": [
    "# Создаем final_result из ads_merged\n",
    "final_result = ads_merged.copy()\n",
    "final_result['date_group'] = pd.to_datetime(final_result['date_group'])\n",
    "\n",
    "# Настройка графика\n",
    "plt.figure(figsize=(16, 8))\n",
    "plt.plot(final_result['date_group'], final_result['cost'], marker='o', linestyle='-', color='skyblue')\n",
    "\n",
    "for idx, row in final_result.iterrows():\n",
    "    if row['cost'] == 0:\n",
    "            continue\n",
    "    plt.text(row['date_group'], row['cost'], f\"{row['cost']:.0f}RUB\", \n",
    "             ha='center', va='bottom', fontsize=8)\n",
    "\n",
    "# Добавление подписей и заголовка\n",
    "plt.title('Aggregated Ad Campaign Cost')\n",
    "plt.xlabel('Date')\n",
    "plt.ylabel('Cost(RUB)')\n",
    "plt.xticks(rotation=45)  # Поворот меток оси X для удобства чтения\n",
    "plt.grid()\n",
    "plt.tight_layout()\n",
    "\n",
    "plt.show()\n",
    "\n",
    "#Сохраняем график\n",
    "#plt.savefig('./charts/7.ad_cost.png')"
   ]
  },
  {
   "cell_type": "markdown",
   "id": "f5bae638-c648-4f70-a422-48f35a2ee91b",
   "metadata": {},
   "source": [
    "##### 5.8 Визиты за весь период с цветовым выделением рекламной кампании"
   ]
  },
  {
   "cell_type": "code",
   "execution_count": null,
   "id": "fe3d758f-c946-496c-8f19-6f41c31646d3",
   "metadata": {},
   "outputs": [],
   "source": [
    "plt.figure(figsize = (25, 10))\n",
    "\n",
    "campaign_colors = dict(zip(campaign_periods['utm_campaign'].unique(), plt.cm.tab10.colors[:len(campaign_periods['utm_campaign'].unique())]))\n",
    "plt.subplot(2, 1, 1)\n",
    "\n",
    "plt.plot(final_result['date_group'], final_result['visits'], marker='o', color='black', label='Visits')\n",
    "plt.axhline(y=np.nanmean(final_result.visits), linestyle='dashed', color='green', label='Average Number of Visits')\n",
    "for _,row in campaign_periods.iterrows():\n",
    "    plt.axvspan(row['start'], row['finish'], label=row['utm_campaign'], color=campaign_colors[row['utm_campaign']], alpha=0.5)\n",
    "plt.title('Visits during marketing active dates')\n",
    "plt.legend()\n",
    "plt.xlabel('Date')\n",
    "plt.ylabel('Unique Visits')\n",
    "plt.grid(True)\n",
    "\n",
    "plt.show()\n",
    "\n",
    "#Сохраняем график\n",
    "#plt.savefig('./charts/8.visits_during_campaigns.png')"
   ]
  },
  {
   "cell_type": "markdown",
   "id": "cdfbec18-eac5-42bc-b75d-b1e6527e6e6f",
   "metadata": {},
   "source": [
    "##### 5.9 Регистрации за весь период с цветовым выделением рекламной кампании"
   ]
  },
  {
   "cell_type": "code",
   "execution_count": null,
   "id": "e09cf218-8567-42ae-a762-1290938a8f4a",
   "metadata": {},
   "outputs": [],
   "source": [
    "plt.figure(figsize=(25,10))\n",
    "\n",
    "campaign_colors = dict(zip(campaign_periods['utm_campaign'].unique(), plt.cm.tab10.colors[:len(campaign_periods['utm_campaign'].unique())]))\n",
    "plt.subplot(2, 1, 1)\n",
    "\n",
    "plt.plot(final_result['date_group'], final_result['registrations'], marker='o', color='green', label='Registrations')\n",
    "plt.axhline(y=np.nanmean(final_result.registrations), linestyle='dashed', color='olive', label='Average Number of Registrations')\n",
    "for _,row in campaign_periods.iterrows():\n",
    "    plt.axvspan(row['start'], row['finish'], label=row['utm_campaign'], color=campaign_colors[row['utm_campaign']], alpha=0.5)\n",
    "plt.title('Registrations during marketing active dates')\n",
    "plt.legend()\n",
    "plt.xlabel('Date')\n",
    "plt.ylabel('Registrations')\n",
    "plt.grid(True)\n",
    "\n",
    "plt.show()\n",
    "\n",
    "#Сохраняем график\n",
    "#plt.savefig('./charts/ads_registrations.png')"
   ]
  },
  {
   "cell_type": "code",
   "execution_count": null,
   "id": "4504b534-761b-4348-a65a-3f922e21ad6a",
   "metadata": {},
   "outputs": [],
   "source": []
  },
  {
   "cell_type": "code",
   "execution_count": null,
   "id": "2a11d0cc-3df6-4f8c-a89e-f63f244a2e76",
   "metadata": {},
   "outputs": [],
   "source": []
  }
 ],
 "metadata": {
  "kernelspec": {
   "display_name": "Python 3 (ipykernel)",
   "language": "python",
   "name": "python3"
  },
  "language_info": {
   "codemirror_mode": {
    "name": "ipython",
    "version": 3
   },
   "file_extension": ".py",
   "mimetype": "text/x-python",
   "name": "python",
   "nbconvert_exporter": "python",
   "pygments_lexer": "ipython3",
   "version": "3.13.9"
  }
 },
 "nbformat": 4,
 "nbformat_minor": 5
}
